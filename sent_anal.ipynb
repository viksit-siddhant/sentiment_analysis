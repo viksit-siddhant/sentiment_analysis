{
  "nbformat": 4,
  "nbformat_minor": 0,
  "metadata": {
    "colab": {
      "name": "sent_anal.ipynb",
      "provenance": [],
      "include_colab_link": true
    },
    "kernelspec": {
      "name": "python3",
      "display_name": "Python 3"
    },
    "accelerator": "GPU"
  },
  "cells": [
    {
      "cell_type": "markdown",
      "metadata": {
        "id": "view-in-github",
        "colab_type": "text"
      },
      "source": [
        "<a href=\"https://colab.research.google.com/github/viksit-siddhant/sentiment_analysis/blob/main/sent_anal.ipynb\" target=\"_parent\"><img src=\"https://colab.research.google.com/assets/colab-badge.svg\" alt=\"Open In Colab\"/></a>"
      ]
    },
    {
      "cell_type": "code",
      "metadata": {
        "id": "83VJLJb9qZvJ"
      },
      "source": [
        "from keras.datasets import imdb\n",
        "from keras.models import Sequential\n",
        "import numpy as np\n",
        "from keras.models import load_model\n",
        "from keras.preprocessing import sequence\n",
        "\n",
        "from keras.layers import Dense,Conv1D,GlobalMaxPooling1D,Dropout,Embedding,Activation"
      ],
      "execution_count": 1,
      "outputs": []
    },
    {
      "cell_type": "code",
      "metadata": {
        "id": "F8ED5vd1rw5v"
      },
      "source": [
        "#hyperparas\n",
        "num_of_features = 4096\n",
        "maxlen = 512"
      ],
      "execution_count": 2,
      "outputs": []
    },
    {
      "cell_type": "code",
      "metadata": {
        "id": "s0L4Sdmlso4l",
        "colab": {
          "base_uri": "https://localhost:8080/"
        },
        "outputId": "4d33b6af-8bbc-43a8-809d-948349e53fc9"
      },
      "source": [
        "model = Sequential()\n",
        "\n",
        "model.add(Embedding(num_of_features,64,input_length=maxlen))\n",
        "model.add(Dropout(0.2))\n",
        "\n",
        "model.add(Conv1D(128,3,padding='valid',activation='relu',strides=1))\n",
        "model.add(Conv1D(256,3,padding='valid',activation='relu',strides=2))\n",
        "\n",
        "model.add(GlobalMaxPooling1D())\n",
        "\n",
        "model.add(Dense(128,activation='relu'))\n",
        "model.add(Dense(1,activation='sigmoid'))\n",
        "\n",
        "model.compile(loss='binary_crossentropy',\n",
        "             optimizer='adam',\n",
        "             metrics=['accuracy'])\n",
        "\n",
        "model.summary()"
      ],
      "execution_count": 19,
      "outputs": [
        {
          "output_type": "stream",
          "text": [
            "Model: \"sequential_2\"\n",
            "_________________________________________________________________\n",
            "Layer (type)                 Output Shape              Param #   \n",
            "=================================================================\n",
            "embedding_2 (Embedding)      (None, 512, 64)           262144    \n",
            "_________________________________________________________________\n",
            "dropout_2 (Dropout)          (None, 512, 64)           0         \n",
            "_________________________________________________________________\n",
            "conv1d_4 (Conv1D)            (None, 510, 128)          24704     \n",
            "_________________________________________________________________\n",
            "conv1d_5 (Conv1D)            (None, 254, 256)          98560     \n",
            "_________________________________________________________________\n",
            "global_max_pooling1d_2 (Glob (None, 256)               0         \n",
            "_________________________________________________________________\n",
            "dense_4 (Dense)              (None, 128)               32896     \n",
            "_________________________________________________________________\n",
            "dense_5 (Dense)              (None, 1)                 129       \n",
            "=================================================================\n",
            "Total params: 418,433\n",
            "Trainable params: 418,433\n",
            "Non-trainable params: 0\n",
            "_________________________________________________________________\n"
          ],
          "name": "stdout"
        }
      ]
    },
    {
      "cell_type": "code",
      "metadata": {
        "id": "vO7fDdV8uTso",
        "colab": {
          "base_uri": "https://localhost:8080/"
        },
        "outputId": "87462388-d4f2-4bfd-b50c-a3f405a1caf7"
      },
      "source": [
        "#Run if you want to train your own model\n",
        "(x_train,y_train),(x_test,y_test) = imdb.load_data(num_words=num_of_features)\n",
        "\n",
        "x_train = sequence.pad_sequences(x_train,maxlen=maxlen)\n",
        "x_test = sequence.pad_sequences(x_test,maxlen=maxlen)\n",
        "\n",
        "print(x_train.shape,'Shape')\n",
        "\n",
        "model.fit(x_train,y_train,batch_size=64,epochs=5,validation_data=(x_test,y_test))"
      ],
      "execution_count": 21,
      "outputs": [
        {
          "output_type": "stream",
          "text": [
            "(25000, 512) Shape\n",
            "Epoch 1/5\n",
            "391/391 [==============================] - 8s 20ms/step - loss: 0.1856 - accuracy: 0.9279 - val_loss: 0.2914 - val_accuracy: 0.8820\n",
            "Epoch 2/5\n",
            "391/391 [==============================] - 8s 20ms/step - loss: 0.1279 - accuracy: 0.9537 - val_loss: 0.3491 - val_accuracy: 0.8686\n",
            "Epoch 3/5\n",
            "391/391 [==============================] - 8s 21ms/step - loss: 0.0880 - accuracy: 0.9688 - val_loss: 0.3879 - val_accuracy: 0.8763\n",
            "Epoch 4/5\n",
            "391/391 [==============================] - 8s 20ms/step - loss: 0.0599 - accuracy: 0.9805 - val_loss: 0.4936 - val_accuracy: 0.8611\n",
            "Epoch 5/5\n",
            "391/391 [==============================] - 8s 20ms/step - loss: 0.0444 - accuracy: 0.9846 - val_loss: 0.5018 - val_accuracy: 0.8719\n"
          ],
          "name": "stdout"
        },
        {
          "output_type": "execute_result",
          "data": {
            "text/plain": [
              "<tensorflow.python.keras.callbacks.History at 0x7f5887092390>"
            ]
          },
          "metadata": {
            "tags": []
          },
          "execution_count": 21
        }
      ]
    },
    {
      "cell_type": "code",
      "metadata": {
        "id": "gI_xnsYcvjnQ",
        "colab": {
          "base_uri": "https://localhost:8080/"
        },
        "outputId": "df6b4306-454a-4292-f46c-c9ae2f20a763"
      },
      "source": [
        "!wget https://www.dropbox.com/s/ldovbkhbv2yavq8/imdb-cnn.h5?dl=0\n",
        "model = load_model('imdb-cnn.h5?dl=0')"
      ],
      "execution_count": 14,
      "outputs": [
        {
          "output_type": "stream",
          "text": [
            "--2020-11-29 13:48:27--  https://www.dropbox.com/s/ldovbkhbv2yavq8/imdb-cnn.h5?dl=0\n",
            "Resolving www.dropbox.com (www.dropbox.com)... 162.125.1.1, 2620:100:6016:1::a27d:101\n",
            "Connecting to www.dropbox.com (www.dropbox.com)|162.125.1.1|:443... connected.\n",
            "HTTP request sent, awaiting response... 301 Moved Permanently\n",
            "Location: /s/raw/ldovbkhbv2yavq8/imdb-cnn.h5 [following]\n",
            "--2020-11-29 13:48:27--  https://www.dropbox.com/s/raw/ldovbkhbv2yavq8/imdb-cnn.h5\n",
            "Reusing existing connection to www.dropbox.com:443.\n",
            "HTTP request sent, awaiting response... 302 Found\n",
            "Location: https://ucbc692297785efe4bffa4047966.dl.dropboxusercontent.com/cd/0/inline/BEHWaemmxzN9_yXHo18CJigOtpqiWMdulB6nhQtUNdL7k-WWsD33H1ungdcryU6DXY-7cwUrKkoV8-DvMVXYNxjwYJW3-WVIyDIX5yVh7IszTw/file# [following]\n",
            "--2020-11-29 13:48:28--  https://ucbc692297785efe4bffa4047966.dl.dropboxusercontent.com/cd/0/inline/BEHWaemmxzN9_yXHo18CJigOtpqiWMdulB6nhQtUNdL7k-WWsD33H1ungdcryU6DXY-7cwUrKkoV8-DvMVXYNxjwYJW3-WVIyDIX5yVh7IszTw/file\n",
            "Resolving ucbc692297785efe4bffa4047966.dl.dropboxusercontent.com (ucbc692297785efe4bffa4047966.dl.dropboxusercontent.com)... 162.125.1.15, 2620:100:6016:15::a27d:10f\n",
            "Connecting to ucbc692297785efe4bffa4047966.dl.dropboxusercontent.com (ucbc692297785efe4bffa4047966.dl.dropboxusercontent.com)|162.125.1.15|:443... connected.\n",
            "HTTP request sent, awaiting response... 302 Found\n",
            "Location: /cd/0/inline2/BEH2aMfkrAtoGBj8cAp4XgkIoWmejURTncQf6QHXdrzP6iWIZikhAVNSZw6mVDxkSB4UnfMEiIeO0z3fAFpb88hq4KFvq-hnIR9y0-HT6u173p791AHIZiWfkgGRiyODqqGBcL3Xmsh23NdoQZitNOQGkfTLcrEqPRl4UwpzsnYIrF6hzSbF3aJEkfiRwBc89XD6Z3NwBs_Ius_b75laPtfN26Fb9N8FfTWGTJgLIzo0UH2PuScsmJlvNgxa-h4vgBGHcm_LmmLI2YW7nsFC6ODKkNmfwX-vVjRdJ6lysXhl38QZYMJU7j2PcTuEcrV1O-BfmhqFndx5Q0YQjFFC0Mwt/file [following]\n",
            "--2020-11-29 13:48:29--  https://ucbc692297785efe4bffa4047966.dl.dropboxusercontent.com/cd/0/inline2/BEH2aMfkrAtoGBj8cAp4XgkIoWmejURTncQf6QHXdrzP6iWIZikhAVNSZw6mVDxkSB4UnfMEiIeO0z3fAFpb88hq4KFvq-hnIR9y0-HT6u173p791AHIZiWfkgGRiyODqqGBcL3Xmsh23NdoQZitNOQGkfTLcrEqPRl4UwpzsnYIrF6hzSbF3aJEkfiRwBc89XD6Z3NwBs_Ius_b75laPtfN26Fb9N8FfTWGTJgLIzo0UH2PuScsmJlvNgxa-h4vgBGHcm_LmmLI2YW7nsFC6ODKkNmfwX-vVjRdJ6lysXhl38QZYMJU7j2PcTuEcrV1O-BfmhqFndx5Q0YQjFFC0Mwt/file\n",
            "Reusing existing connection to ucbc692297785efe4bffa4047966.dl.dropboxusercontent.com:443.\n",
            "HTTP request sent, awaiting response... 200 OK\n",
            "Length: 5059648 (4.8M) [application/octet-stream]\n",
            "Saving to: ‘imdb-cnn.h5?dl=0.1’\n",
            "\n",
            "imdb-cnn.h5?dl=0.1  100%[===================>]   4.83M  10.0MB/s    in 0.5s    \n",
            "\n",
            "2020-11-29 13:48:30 (10.0 MB/s) - ‘imdb-cnn.h5?dl=0.1’ saved [5059648/5059648]\n",
            "\n"
          ],
          "name": "stdout"
        }
      ]
    },
    {
      "cell_type": "code",
      "metadata": {
        "id": "ft1iHbAkvv48",
        "colab": {
          "base_uri": "https://localhost:8080/"
        },
        "outputId": "0dd0c3e0-f60c-4859-e570-a717f575406d"
      },
      "source": [
        "def preprocess_sentence(sentence,dictionary):\n",
        "    sentence = sentence.lower()\n",
        "    x = np.zeros(maxlen)\n",
        "    punctuation = [':',';','.','\\n']\n",
        "    for char in punctuation:\n",
        "        sentence.replace(char,'')\n",
        "    for i,word in enumerate(sentence.split(' ')):\n",
        "        if word in dictionary and i < maxlen:\n",
        "            if dictionary[word] <= 4096:\n",
        "                x[i] = dictionary[word]\n",
        "    x = x[::-1]\n",
        "    x = x.reshape((1,-1))\n",
        "    return x\n",
        "            \n",
        "def sent_anal(sentence):\n",
        "    dictionary = imdb.get_word_index()\n",
        "    sentence = preprocess_sentence(sentence,dictionary)\n",
        "    y = model.predict(sentence)\n",
        "    print(y[0,0])\n",
        "\n",
        "sent_anal(\"Terrible\")"
      ],
      "execution_count": 42,
      "outputs": [
        {
          "output_type": "stream",
          "text": [
            "0.49964264\n"
          ],
          "name": "stdout"
        }
      ]
    }
  ]
}